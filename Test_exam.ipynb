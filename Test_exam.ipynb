{
 "cells": [
  {
   "cell_type": "code",
   "execution_count": 18,
   "id": "4773577f-5615-4207-a804-b550d1a3e918",
   "metadata": {},
   "outputs": [],
   "source": [
    "Data = read.table(\"Project_1.dat\", header = TRUE)"
   ]
  },
  {
   "cell_type": "code",
   "execution_count": 22,
   "id": "472c430d-f948-4c10-b535-86fb427d5775",
   "metadata": {
    "scrolled": true
   },
   "outputs": [
    {
     "data": {
      "text/html": [
       "<table class=\"dataframe\">\n",
       "<caption>A data.frame: 45 × 4</caption>\n",
       "<thead>\n",
       "\t<tr><th scope=col>uid</th><th scope=col>Area</th><th scope=col>Duration</th><th scope=col>Time</th></tr>\n",
       "\t<tr><th scope=col>&lt;int&gt;</th><th scope=col>&lt;chr&gt;</th><th scope=col>&lt;chr&gt;</th><th scope=col>&lt;int&gt;</th></tr>\n",
       "</thead>\n",
       "<tbody>\n",
       "\t<tr><td> 1</td><td>Neutral</td><td>50 </td><td>25</td></tr>\n",
       "\t<tr><td> 2</td><td>Neutral</td><td>50 </td><td>30</td></tr>\n",
       "\t<tr><td> 3</td><td>Neutral</td><td>50 </td><td>28</td></tr>\n",
       "\t<tr><td> 4</td><td>Neutral</td><td>50 </td><td>40</td></tr>\n",
       "\t<tr><td> 5</td><td>Neutral</td><td>50 </td><td>20</td></tr>\n",
       "\t<tr><td> 6</td><td>Neutral</td><td>100</td><td>30</td></tr>\n",
       "\t<tr><td> 7</td><td>Neutral</td><td>100</td><td>25</td></tr>\n",
       "\t<tr><td> 8</td><td>Neutral</td><td>100</td><td>27</td></tr>\n",
       "\t<tr><td> 9</td><td>Neutral</td><td>100</td><td>35</td></tr>\n",
       "\t<tr><td>10</td><td>Neutral</td><td>100</td><td>23</td></tr>\n",
       "\t<tr><td>11</td><td>Neutral</td><td>150</td><td>28</td></tr>\n",
       "\t<tr><td>12</td><td>Neutral</td><td>150</td><td>31</td></tr>\n",
       "\t<tr><td>13</td><td>Neutral</td><td>150</td><td>26</td></tr>\n",
       "\t<tr><td>14</td><td>Neutral</td><td>150</td><td>20</td></tr>\n",
       "\t<tr><td>15</td><td>Neutral</td><td>150</td><td>35</td></tr>\n",
       "\t<tr><td>16</td><td>AreaA  </td><td>50 </td><td>11</td></tr>\n",
       "\t<tr><td>17</td><td>AreaA  </td><td>50 </td><td>18</td></tr>\n",
       "\t<tr><td>18</td><td>AreaA  </td><td>50 </td><td>26</td></tr>\n",
       "\t<tr><td>19</td><td>AreaA  </td><td>50 </td><td>15</td></tr>\n",
       "\t<tr><td>20</td><td>AreaA  </td><td>50 </td><td>14</td></tr>\n",
       "\t<tr><td>21</td><td>AreaA  </td><td>100</td><td>31</td></tr>\n",
       "\t<tr><td>22</td><td>AreaA  </td><td>100</td><td>20</td></tr>\n",
       "\t<tr><td>23</td><td>AreaA  </td><td>100</td><td>22</td></tr>\n",
       "\t<tr><td>24</td><td>AreaA  </td><td>100</td><td>23</td></tr>\n",
       "\t<tr><td>25</td><td>AreaA  </td><td>100</td><td>19</td></tr>\n",
       "\t<tr><td>26</td><td>AreaA  </td><td>150</td><td>23</td></tr>\n",
       "\t<tr><td>27</td><td>AreaA  </td><td>150</td><td>28</td></tr>\n",
       "\t<tr><td>28</td><td>AreaA  </td><td>150</td><td>35</td></tr>\n",
       "\t<tr><td>29</td><td>AreaA  </td><td>150</td><td>27</td></tr>\n",
       "\t<tr><td>30</td><td>AreaA  </td><td>150</td><td>21</td></tr>\n",
       "\t<tr><td>31</td><td>AreaB  </td><td>50 </td><td>23</td></tr>\n",
       "\t<tr><td>32</td><td>AreaB  </td><td>50 </td><td>30</td></tr>\n",
       "\t<tr><td>33</td><td>AreaB  </td><td>50 </td><td>18</td></tr>\n",
       "\t<tr><td>34</td><td>AreaB  </td><td>50 </td><td>28</td></tr>\n",
       "\t<tr><td>35</td><td>AreaB  </td><td>50 </td><td>23</td></tr>\n",
       "\t<tr><td>36</td><td>AreaB  </td><td>100</td><td>18</td></tr>\n",
       "\t<tr><td>37</td><td>AreaB  </td><td>100</td><td>24</td></tr>\n",
       "\t<tr><td>38</td><td>AreaB  </td><td>100</td><td> 9</td></tr>\n",
       "\t<tr><td>39</td><td>AreaB  </td><td>100</td><td>16</td></tr>\n",
       "\t<tr><td>40</td><td>AreaB  </td><td>100</td><td>13</td></tr>\n",
       "\t<tr><td>41</td><td>AreaB  </td><td>150</td><td>28</td></tr>\n",
       "\t<tr><td>42</td><td>AreaB  </td><td>150</td><td>21</td></tr>\n",
       "\t<tr><td>43</td><td>AreaB  </td><td>150</td><td>30</td></tr>\n",
       "\t<tr><td>44</td><td>AreaB  </td><td>150</td><td>30</td></tr>\n",
       "\t<tr><td>45</td><td>AreaB  </td><td>150</td><td>23</td></tr>\n",
       "</tbody>\n",
       "</table>\n"
      ],
      "text/latex": [
       "A data.frame: 45 × 4\n",
       "\\begin{tabular}{llll}\n",
       " uid & Area & Duration & Time\\\\\n",
       " <int> & <chr> & <chr> & <int>\\\\\n",
       "\\hline\n",
       "\t  1 & Neutral & 50  & 25\\\\\n",
       "\t  2 & Neutral & 50  & 30\\\\\n",
       "\t  3 & Neutral & 50  & 28\\\\\n",
       "\t  4 & Neutral & 50  & 40\\\\\n",
       "\t  5 & Neutral & 50  & 20\\\\\n",
       "\t  6 & Neutral & 100 & 30\\\\\n",
       "\t  7 & Neutral & 100 & 25\\\\\n",
       "\t  8 & Neutral & 100 & 27\\\\\n",
       "\t  9 & Neutral & 100 & 35\\\\\n",
       "\t 10 & Neutral & 100 & 23\\\\\n",
       "\t 11 & Neutral & 150 & 28\\\\\n",
       "\t 12 & Neutral & 150 & 31\\\\\n",
       "\t 13 & Neutral & 150 & 26\\\\\n",
       "\t 14 & Neutral & 150 & 20\\\\\n",
       "\t 15 & Neutral & 150 & 35\\\\\n",
       "\t 16 & AreaA   & 50  & 11\\\\\n",
       "\t 17 & AreaA   & 50  & 18\\\\\n",
       "\t 18 & AreaA   & 50  & 26\\\\\n",
       "\t 19 & AreaA   & 50  & 15\\\\\n",
       "\t 20 & AreaA   & 50  & 14\\\\\n",
       "\t 21 & AreaA   & 100 & 31\\\\\n",
       "\t 22 & AreaA   & 100 & 20\\\\\n",
       "\t 23 & AreaA   & 100 & 22\\\\\n",
       "\t 24 & AreaA   & 100 & 23\\\\\n",
       "\t 25 & AreaA   & 100 & 19\\\\\n",
       "\t 26 & AreaA   & 150 & 23\\\\\n",
       "\t 27 & AreaA   & 150 & 28\\\\\n",
       "\t 28 & AreaA   & 150 & 35\\\\\n",
       "\t 29 & AreaA   & 150 & 27\\\\\n",
       "\t 30 & AreaA   & 150 & 21\\\\\n",
       "\t 31 & AreaB   & 50  & 23\\\\\n",
       "\t 32 & AreaB   & 50  & 30\\\\\n",
       "\t 33 & AreaB   & 50  & 18\\\\\n",
       "\t 34 & AreaB   & 50  & 28\\\\\n",
       "\t 35 & AreaB   & 50  & 23\\\\\n",
       "\t 36 & AreaB   & 100 & 18\\\\\n",
       "\t 37 & AreaB   & 100 & 24\\\\\n",
       "\t 38 & AreaB   & 100 &  9\\\\\n",
       "\t 39 & AreaB   & 100 & 16\\\\\n",
       "\t 40 & AreaB   & 100 & 13\\\\\n",
       "\t 41 & AreaB   & 150 & 28\\\\\n",
       "\t 42 & AreaB   & 150 & 21\\\\\n",
       "\t 43 & AreaB   & 150 & 30\\\\\n",
       "\t 44 & AreaB   & 150 & 30\\\\\n",
       "\t 45 & AreaB   & 150 & 23\\\\\n",
       "\\end{tabular}\n"
      ],
      "text/markdown": [
       "\n",
       "A data.frame: 45 × 4\n",
       "\n",
       "| uid &lt;int&gt; | Area &lt;chr&gt; | Duration &lt;chr&gt; | Time &lt;int&gt; |\n",
       "|---|---|---|---|\n",
       "|  1 | Neutral | 50  | 25 |\n",
       "|  2 | Neutral | 50  | 30 |\n",
       "|  3 | Neutral | 50  | 28 |\n",
       "|  4 | Neutral | 50  | 40 |\n",
       "|  5 | Neutral | 50  | 20 |\n",
       "|  6 | Neutral | 100 | 30 |\n",
       "|  7 | Neutral | 100 | 25 |\n",
       "|  8 | Neutral | 100 | 27 |\n",
       "|  9 | Neutral | 100 | 35 |\n",
       "| 10 | Neutral | 100 | 23 |\n",
       "| 11 | Neutral | 150 | 28 |\n",
       "| 12 | Neutral | 150 | 31 |\n",
       "| 13 | Neutral | 150 | 26 |\n",
       "| 14 | Neutral | 150 | 20 |\n",
       "| 15 | Neutral | 150 | 35 |\n",
       "| 16 | AreaA   | 50  | 11 |\n",
       "| 17 | AreaA   | 50  | 18 |\n",
       "| 18 | AreaA   | 50  | 26 |\n",
       "| 19 | AreaA   | 50  | 15 |\n",
       "| 20 | AreaA   | 50  | 14 |\n",
       "| 21 | AreaA   | 100 | 31 |\n",
       "| 22 | AreaA   | 100 | 20 |\n",
       "| 23 | AreaA   | 100 | 22 |\n",
       "| 24 | AreaA   | 100 | 23 |\n",
       "| 25 | AreaA   | 100 | 19 |\n",
       "| 26 | AreaA   | 150 | 23 |\n",
       "| 27 | AreaA   | 150 | 28 |\n",
       "| 28 | AreaA   | 150 | 35 |\n",
       "| 29 | AreaA   | 150 | 27 |\n",
       "| 30 | AreaA   | 150 | 21 |\n",
       "| 31 | AreaB   | 50  | 23 |\n",
       "| 32 | AreaB   | 50  | 30 |\n",
       "| 33 | AreaB   | 50  | 18 |\n",
       "| 34 | AreaB   | 50  | 28 |\n",
       "| 35 | AreaB   | 50  | 23 |\n",
       "| 36 | AreaB   | 100 | 18 |\n",
       "| 37 | AreaB   | 100 | 24 |\n",
       "| 38 | AreaB   | 100 |  9 |\n",
       "| 39 | AreaB   | 100 | 16 |\n",
       "| 40 | AreaB   | 100 | 13 |\n",
       "| 41 | AreaB   | 150 | 28 |\n",
       "| 42 | AreaB   | 150 | 21 |\n",
       "| 43 | AreaB   | 150 | 30 |\n",
       "| 44 | AreaB   | 150 | 30 |\n",
       "| 45 | AreaB   | 150 | 23 |\n",
       "\n"
      ],
      "text/plain": [
       "   uid Area    Duration Time\n",
       "1   1  Neutral 50       25  \n",
       "2   2  Neutral 50       30  \n",
       "3   3  Neutral 50       28  \n",
       "4   4  Neutral 50       40  \n",
       "5   5  Neutral 50       20  \n",
       "6   6  Neutral 100      30  \n",
       "7   7  Neutral 100      25  \n",
       "8   8  Neutral 100      27  \n",
       "9   9  Neutral 100      35  \n",
       "10 10  Neutral 100      23  \n",
       "11 11  Neutral 150      28  \n",
       "12 12  Neutral 150      31  \n",
       "13 13  Neutral 150      26  \n",
       "14 14  Neutral 150      20  \n",
       "15 15  Neutral 150      35  \n",
       "16 16  AreaA   50       11  \n",
       "17 17  AreaA   50       18  \n",
       "18 18  AreaA   50       26  \n",
       "19 19  AreaA   50       15  \n",
       "20 20  AreaA   50       14  \n",
       "21 21  AreaA   100      31  \n",
       "22 22  AreaA   100      20  \n",
       "23 23  AreaA   100      22  \n",
       "24 24  AreaA   100      23  \n",
       "25 25  AreaA   100      19  \n",
       "26 26  AreaA   150      23  \n",
       "27 27  AreaA   150      28  \n",
       "28 28  AreaA   150      35  \n",
       "29 29  AreaA   150      27  \n",
       "30 30  AreaA   150      21  \n",
       "31 31  AreaB   50       23  \n",
       "32 32  AreaB   50       30  \n",
       "33 33  AreaB   50       18  \n",
       "34 34  AreaB   50       28  \n",
       "35 35  AreaB   50       23  \n",
       "36 36  AreaB   100      18  \n",
       "37 37  AreaB   100      24  \n",
       "38 38  AreaB   100       9  \n",
       "39 39  AreaB   100      16  \n",
       "40 40  AreaB   100      13  \n",
       "41 41  AreaB   150      28  \n",
       "42 42  AreaB   150      21  \n",
       "43 43  AreaB   150      30  \n",
       "44 44  AreaB   150      30  \n",
       "45 45  AreaB   150      23  "
      ]
     },
     "metadata": {},
     "output_type": "display_data"
    }
   ],
   "source": [
    "Data"
   ]
  },
  {
   "cell_type": "code",
   "execution_count": 20,
   "id": "c8cc4343-bc16-4d41-993b-ef5956a93c44",
   "metadata": {},
   "outputs": [],
   "source": [
    "Data = Data%>% mutate (Area = ifelse (Area == \"1\", \"Neutral\", ifelse(Area == \"2\", \"AreaA\", \"AreaB\")))"
   ]
  },
  {
   "cell_type": "code",
   "execution_count": 21,
   "id": "994c391e-3a96-4098-b04d-b66ed1266837",
   "metadata": {},
   "outputs": [],
   "source": [
    "Data = Data%>% mutate (Duration = ifelse (Duration == \"1\", \"50\", ifelse(Duration == \"2\", \"100\", \"150\")))"
   ]
  },
  {
   "cell_type": "code",
   "execution_count": 23,
   "id": "d4b4f186-642a-40cf-ae77-475077ecac9d",
   "metadata": {},
   "outputs": [],
   "source": [
    "library(rstatix)"
   ]
  },
  {
   "cell_type": "markdown",
   "id": "31d9aa10-eeea-4be6-a36c-44a0329447b1",
   "metadata": {},
   "source": [
    "# سوال یک"
   ]
  },
  {
   "cell_type": "code",
   "execution_count": 24,
   "id": "5c830d41-3b76-4327-93bf-7dba0649a0d7",
   "metadata": {},
   "outputs": [
    {
     "data": {
      "image/png": "[encoded data removed]",
      "text/plain": [
       "plot without title"
      ]
     },
     "metadata": {
      "image/png": {
       "height": 420,
       "width": 420
      }
     },
     "output_type": "display_data"
    }
   ],
   "source": [
    "plot(Data$Time)"
   ]
  },
  {
   "cell_type": "code",
   "execution_count": 31,
   "id": "b152c5d2-e963-42c5-aeb6-c5b04b203930",
   "metadata": {},
   "outputs": [
    {
     "data": {
      "image/png": "[encoded data removed]",
      "text/plain": [
       "plot without title"
      ]
     },
     "metadata": {
      "image/png": {
       "height": 420,
       "width": 420
      }
     },
     "output_type": "display_data"
    }
   ],
   "source": [
    "plot(Data$Duration, Data$Time, pch = 19, col = factor(Data$Area))\n",
    "legend(\"topleft\", legend = levels(factor(Data$Area)), pch = 19, col = factor(levels(factor(Data$Duration))))"
   ]
  },
  {
   "cell_type": "markdown",
   "id": "42c6bdfd-dc22-4715-8d8c-f6b6b11bb983",
   "metadata": {},
   "source": [
    "# سوال دو"
   ]
  },
  {
   "cell_type": "code",
   "execution_count": 42,
   "id": "0b63fa86-82fc-40ff-8a31-f909810b6af4",
   "metadata": {
    "scrolled": true
   },
   "outputs": [
    {
     "data": {
      "image/png": "[encoded data removed]",
      "text/plain": [
       "Plot with title \"Histogram of Data$Time\""
      ]
     },
     "metadata": {
      "image/png": {
       "height": 420,
       "width": 420
      }
     },
     "output_type": "display_data"
    }
   ],
   "source": [
    "hist(Data$Time, breaks = 30)"
   ]
  },
  {
   "cell_type": "code",
   "execution_count": 50,
   "id": "8ce43dfd-66ce-4c20-99e6-db40e9c628ae",
   "metadata": {},
   "outputs": [
    {
     "data": {
      "image/png": "[encoded data removed]",
      "text/plain": [
       "Plot with title \"Histogram of Data$Time\""
      ]
     },
     "metadata": {
      "image/png": {
       "height": 420,
       "width": 420
      }
     },
     "output_type": "display_data"
    }
   ],
   "source": [
    "hist(Data$Time, breaks = 30, probability = TRUE)\n",
    "lines(density(Data$Time), col = \"Blue\")"
   ]
  },
  {
   "cell_type": "markdown",
   "id": "3dd07f61-afa2-4e4d-9ba4-b6d9a42c56c2",
   "metadata": {},
   "source": [
    "# سوال سه\n"
   ]
  },
  {
   "cell_type": "code",
   "execution_count": 56,
   "id": "32a92281-728c-49d5-afad-85b448e6042d",
   "metadata": {},
   "outputs": [
    {
     "data": {
      "image/png": "[encoded data removed]",
      "text/plain": [
       "plot without title"
      ]
     },
     "metadata": {
      "image/png": {
       "height": 420,
       "width": 420
      }
     },
     "output_type": "display_data"
    }
   ],
   "source": [
    "ggboxplot(Data, x= \"Area\", y = \"Time\", add = \"point\")"
   ]
  },
  {
   "cell_type": "code",
   "execution_count": 52,
   "id": "16dc1838-64e0-4d46-887b-c7529f603ea8",
   "metadata": {},
   "outputs": [
    {
     "name": "stderr",
     "output_type": "stream",
     "text": [
      "Loading required package: ggplot2\n",
      "\n"
     ]
    }
   ],
   "source": [
    "library(ggpubr)"
   ]
  },
  {
   "cell_type": "code",
   "execution_count": 57,
   "id": "e5caf842-7fed-4f06-8995-19cbc01930ef",
   "metadata": {},
   "outputs": [
    {
     "data": {
      "image/png": "[encoded data removed]",
      "text/plain": [
       "plot without title"
      ]
     },
     "metadata": {
      "image/png": {
       "height": 420,
       "width": 420
      }
     },
     "output_type": "display_data"
    }
   ],
   "source": [
    "ggboxplot(Data, x = \"Duration\", y = \"Time\", color = \"Area\")"
   ]
  },
  {
   "cell_type": "code",
   "execution_count": null,
   "id": "6ab6b7fd-46f8-4221-9457-34efca8504b6",
   "metadata": {},
   "outputs": [],
   "source": []
  },
  {
   "cell_type": "markdown",
   "id": "7e5383bb-2092-42ca-b017-c20f1c2a7dd2",
   "metadata": {},
   "source": [
    "# سوال چهار"
   ]
  },
  {
   "cell_type": "code",
   "execution_count": 61,
   "id": "5b9d9399-42da-4613-b32f-4f17db607341",
   "metadata": {},
   "outputs": [
    {
     "data": {
      "text/html": [
       "<table class=\"dataframe\">\n",
       "<caption>A tibble: 9 × 15</caption>\n",
       "<thead>\n",
       "\t<tr><th scope=col>Area</th><th scope=col>Duration</th><th scope=col>variable</th><th scope=col>n</th><th scope=col>min</th><th scope=col>max</th><th scope=col>median</th><th scope=col>q1</th><th scope=col>q3</th><th scope=col>iqr</th><th scope=col>mad</th><th scope=col>mean</th><th scope=col>sd</th><th scope=col>se</th><th scope=col>ci</th></tr>\n",
       "\t<tr><th scope=col>&lt;chr&gt;</th><th scope=col>&lt;chr&gt;</th><th scope=col>&lt;fct&gt;</th><th scope=col>&lt;dbl&gt;</th><th scope=col>&lt;dbl&gt;</th><th scope=col>&lt;dbl&gt;</th><th scope=col>&lt;dbl&gt;</th><th scope=col>&lt;dbl&gt;</th><th scope=col>&lt;dbl&gt;</th><th scope=col>&lt;dbl&gt;</th><th scope=col>&lt;dbl&gt;</th><th scope=col>&lt;dbl&gt;</th><th scope=col>&lt;dbl&gt;</th><th scope=col>&lt;dbl&gt;</th><th scope=col>&lt;dbl&gt;</th></tr>\n",
       "</thead>\n",
       "<tbody>\n",
       "\t<tr><td>AreaA  </td><td>100</td><td>Time</td><td>5</td><td>19</td><td>31</td><td>22</td><td>20</td><td>23</td><td>3</td><td>2.965</td><td>23.0</td><td>4.743</td><td>2.121</td><td>5.890</td></tr>\n",
       "\t<tr><td>AreaA  </td><td>150</td><td>Time</td><td>5</td><td>21</td><td>35</td><td>27</td><td>23</td><td>28</td><td>5</td><td>5.930</td><td>26.8</td><td>5.404</td><td>2.417</td><td>6.710</td></tr>\n",
       "\t<tr><td>AreaA  </td><td>50 </td><td>Time</td><td>5</td><td>11</td><td>26</td><td>15</td><td>14</td><td>18</td><td>4</td><td>4.448</td><td>16.8</td><td>5.718</td><td>2.557</td><td>7.100</td></tr>\n",
       "\t<tr><td>AreaB  </td><td>100</td><td>Time</td><td>5</td><td> 9</td><td>24</td><td>16</td><td>13</td><td>18</td><td>5</td><td>4.448</td><td>16.0</td><td>5.612</td><td>2.510</td><td>6.969</td></tr>\n",
       "\t<tr><td>AreaB  </td><td>150</td><td>Time</td><td>5</td><td>21</td><td>30</td><td>28</td><td>23</td><td>30</td><td>7</td><td>2.965</td><td>26.4</td><td>4.159</td><td>1.860</td><td>5.164</td></tr>\n",
       "\t<tr><td>AreaB  </td><td>50 </td><td>Time</td><td>5</td><td>18</td><td>30</td><td>23</td><td>23</td><td>28</td><td>5</td><td>7.413</td><td>24.4</td><td>4.722</td><td>2.112</td><td>5.863</td></tr>\n",
       "\t<tr><td>Neutral</td><td>100</td><td>Time</td><td>5</td><td>23</td><td>35</td><td>27</td><td>25</td><td>30</td><td>5</td><td>4.448</td><td>28.0</td><td>4.690</td><td>2.098</td><td>5.824</td></tr>\n",
       "\t<tr><td>Neutral</td><td>150</td><td>Time</td><td>5</td><td>20</td><td>35</td><td>28</td><td>26</td><td>31</td><td>5</td><td>4.448</td><td>28.0</td><td>5.612</td><td>2.510</td><td>6.969</td></tr>\n",
       "\t<tr><td>Neutral</td><td>50 </td><td>Time</td><td>5</td><td>20</td><td>40</td><td>28</td><td>25</td><td>30</td><td>5</td><td>4.448</td><td>28.6</td><td>7.403</td><td>3.311</td><td>9.192</td></tr>\n",
       "</tbody>\n",
       "</table>\n"
      ],
      "text/latex": [
       "A tibble: 9 × 15\n",
       "\\begin{tabular}{lllllllllllllll}\n",
       " Area & Duration & variable & n & min & max & median & q1 & q3 & iqr & mad & mean & sd & se & ci\\\\\n",
       " <chr> & <chr> & <fct> & <dbl> & <dbl> & <dbl> & <dbl> & <dbl> & <dbl> & <dbl> & <dbl> & <dbl> & <dbl> & <dbl> & <dbl>\\\\\n",
       "\\hline\n",
       "\t AreaA   & 100 & Time & 5 & 19 & 31 & 22 & 20 & 23 & 3 & 2.965 & 23.0 & 4.743 & 2.121 & 5.890\\\\\n",
       "\t AreaA   & 150 & Time & 5 & 21 & 35 & 27 & 23 & 28 & 5 & 5.930 & 26.8 & 5.404 & 2.417 & 6.710\\\\\n",
       "\t AreaA   & 50  & Time & 5 & 11 & 26 & 15 & 14 & 18 & 4 & 4.448 & 16.8 & 5.718 & 2.557 & 7.100\\\\\n",
       "\t AreaB   & 100 & Time & 5 &  9 & 24 & 16 & 13 & 18 & 5 & 4.448 & 16.0 & 5.612 & 2.510 & 6.969\\\\\n",
       "\t AreaB   & 150 & Time & 5 & 21 & 30 & 28 & 23 & 30 & 7 & 2.965 & 26.4 & 4.159 & 1.860 & 5.164\\\\\n",
       "\t AreaB   & 50  & Time & 5 & 18 & 30 & 23 & 23 & 28 & 5 & 7.413 & 24.4 & 4.722 & 2.112 & 5.863\\\\\n",
       "\t Neutral & 100 & Time & 5 & 23 & 35 & 27 & 25 & 30 & 5 & 4.448 & 28.0 & 4.690 & 2.098 & 5.824\\\\\n",
       "\t Neutral & 150 & Time & 5 & 20 & 35 & 28 & 26 & 31 & 5 & 4.448 & 28.0 & 5.612 & 2.510 & 6.969\\\\\n",
       "\t Neutral & 50  & Time & 5 & 20 & 40 & 28 & 25 & 30 & 5 & 4.448 & 28.6 & 7.403 & 3.311 & 9.192\\\\\n",
       "\\end{tabular}\n"
      ],
      "text/markdown": [
       "\n",
       "A tibble: 9 × 15\n",
       "\n",
       "| Area &lt;chr&gt; | Duration &lt;chr&gt; | variable &lt;fct&gt; | n &lt;dbl&gt; | min &lt;dbl&gt; | max &lt;dbl&gt; | median &lt;dbl&gt; | q1 &lt;dbl&gt; | q3 &lt;dbl&gt; | iqr &lt;dbl&gt; | mad &lt;dbl&gt; | mean &lt;dbl&gt; | sd &lt;dbl&gt; | se &lt;dbl&gt; | ci &lt;dbl&gt; |\n",
       "|---|---|---|---|---|---|---|---|---|---|---|---|---|---|---|\n",
       "| AreaA   | 100 | Time | 5 | 19 | 31 | 22 | 20 | 23 | 3 | 2.965 | 23.0 | 4.743 | 2.121 | 5.890 |\n",
       "| AreaA   | 150 | Time | 5 | 21 | 35 | 27 | 23 | 28 | 5 | 5.930 | 26.8 | 5.404 | 2.417 | 6.710 |\n",
       "| AreaA   | 50  | Time | 5 | 11 | 26 | 15 | 14 | 18 | 4 | 4.448 | 16.8 | 5.718 | 2.557 | 7.100 |\n",
       "| AreaB   | 100 | Time | 5 |  9 | 24 | 16 | 13 | 18 | 5 | 4.448 | 16.0 | 5.612 | 2.510 | 6.969 |\n",
       "| AreaB   | 150 | Time | 5 | 21 | 30 | 28 | 23 | 30 | 7 | 2.965 | 26.4 | 4.159 | 1.860 | 5.164 |\n",
       "| AreaB   | 50  | Time | 5 | 18 | 30 | 23 | 23 | 28 | 5 | 7.413 | 24.4 | 4.722 | 2.112 | 5.863 |\n",
       "| Neutral | 100 | Time | 5 | 23 | 35 | 27 | 25 | 30 | 5 | 4.448 | 28.0 | 4.690 | 2.098 | 5.824 |\n",
       "| Neutral | 150 | Time | 5 | 20 | 35 | 28 | 26 | 31 | 5 | 4.448 | 28.0 | 5.612 | 2.510 | 6.969 |\n",
       "| Neutral | 50  | Time | 5 | 20 | 40 | 28 | 25 | 30 | 5 | 4.448 | 28.6 | 7.403 | 3.311 | 9.192 |\n",
       "\n"
      ],
      "text/plain": [
       "  Area    Duration variable n min max median q1 q3 iqr mad   mean sd    se   \n",
       "1 AreaA   100      Time     5 19  31  22     20 23 3   2.965 23.0 4.743 2.121\n",
       "2 AreaA   150      Time     5 21  35  27     23 28 5   5.930 26.8 5.404 2.417\n",
       "3 AreaA   50       Time     5 11  26  15     14 18 4   4.448 16.8 5.718 2.557\n",
       "4 AreaB   100      Time     5  9  24  16     13 18 5   4.448 16.0 5.612 2.510\n",
       "5 AreaB   150      Time     5 21  30  28     23 30 7   2.965 26.4 4.159 1.860\n",
       "6 AreaB   50       Time     5 18  30  23     23 28 5   7.413 24.4 4.722 2.112\n",
       "7 Neutral 100      Time     5 23  35  27     25 30 5   4.448 28.0 4.690 2.098\n",
       "8 Neutral 150      Time     5 20  35  28     26 31 5   4.448 28.0 5.612 2.510\n",
       "9 Neutral 50       Time     5 20  40  28     25 30 5   4.448 28.6 7.403 3.311\n",
       "  ci   \n",
       "1 5.890\n",
       "2 6.710\n",
       "3 7.100\n",
       "4 6.969\n",
       "5 5.164\n",
       "6 5.863\n",
       "7 5.824\n",
       "8 6.969\n",
       "9 9.192"
      ]
     },
     "metadata": {},
     "output_type": "display_data"
    }
   ],
   "source": [
    "Data %>% group_by(Area,Duration) %>% get_summary_stats(Time)"
   ]
  },
  {
   "cell_type": "markdown",
   "id": "8d1b607c-c569-4b7f-b463-4d1f4c2ef089",
   "metadata": {},
   "source": [
    "# سوال پنجم"
   ]
  },
  {
   "cell_type": "code",
   "execution_count": 63,
   "id": "061def63-6192-4bb5-904a-068be5081951",
   "metadata": {},
   "outputs": [
    {
     "data": {
      "text/html": [
       "<table class=\"dataframe\">\n",
       "<caption>A tibble: 3 × 6</caption>\n",
       "<thead>\n",
       "\t<tr><th scope=col>Area</th><th scope=col>Duration</th><th scope=col>uid</th><th scope=col>Time</th><th scope=col>is.outlier</th><th scope=col>is.extreme</th></tr>\n",
       "\t<tr><th scope=col>&lt;chr&gt;</th><th scope=col>&lt;chr&gt;</th><th scope=col>&lt;int&gt;</th><th scope=col>&lt;int&gt;</th><th scope=col>&lt;lgl&gt;</th><th scope=col>&lt;lgl&gt;</th></tr>\n",
       "</thead>\n",
       "<tbody>\n",
       "\t<tr><td>AreaA  </td><td>100</td><td>21</td><td>31</td><td>TRUE</td><td>FALSE</td></tr>\n",
       "\t<tr><td>AreaA  </td><td>50 </td><td>18</td><td>26</td><td>TRUE</td><td>FALSE</td></tr>\n",
       "\t<tr><td>Neutral</td><td>50 </td><td> 4</td><td>40</td><td>TRUE</td><td>FALSE</td></tr>\n",
       "</tbody>\n",
       "</table>\n"
      ],
      "text/latex": [
       "A tibble: 3 × 6\n",
       "\\begin{tabular}{llllll}\n",
       " Area & Duration & uid & Time & is.outlier & is.extreme\\\\\n",
       " <chr> & <chr> & <int> & <int> & <lgl> & <lgl>\\\\\n",
       "\\hline\n",
       "\t AreaA   & 100 & 21 & 31 & TRUE & FALSE\\\\\n",
       "\t AreaA   & 50  & 18 & 26 & TRUE & FALSE\\\\\n",
       "\t Neutral & 50  &  4 & 40 & TRUE & FALSE\\\\\n",
       "\\end{tabular}\n"
      ],
      "text/markdown": [
       "\n",
       "A tibble: 3 × 6\n",
       "\n",
       "| Area &lt;chr&gt; | Duration &lt;chr&gt; | uid &lt;int&gt; | Time &lt;int&gt; | is.outlier &lt;lgl&gt; | is.extreme &lt;lgl&gt; |\n",
       "|---|---|---|---|---|---|\n",
       "| AreaA   | 100 | 21 | 31 | TRUE | FALSE |\n",
       "| AreaA   | 50  | 18 | 26 | TRUE | FALSE |\n",
       "| Neutral | 50  |  4 | 40 | TRUE | FALSE |\n",
       "\n"
      ],
      "text/plain": [
       "  Area    Duration uid Time is.outlier is.extreme\n",
       "1 AreaA   100      21  31   TRUE       FALSE     \n",
       "2 AreaA   50       18  26   TRUE       FALSE     \n",
       "3 Neutral 50        4  40   TRUE       FALSE     "
      ]
     },
     "metadata": {},
     "output_type": "display_data"
    }
   ],
   "source": [
    "Data %>% group_by(Area,Duration) %>% identify_outliers(Time)"
   ]
  },
  {
   "cell_type": "code",
   "execution_count": 64,
   "id": "8f364a3e-9816-48a3-a6b2-5b507c5a3810",
   "metadata": {},
   "outputs": [
    {
     "data": {
      "image/png": "[encoded data removed]",
      "text/plain": [
       "plot without title"
      ]
     },
     "metadata": {
      "image/png": {
       "height": 420,
       "width": 420
      }
     },
     "output_type": "display_data"
    }
   ],
   "source": [
    "ggqqplot(Data$Time)"
   ]
  },
  {
   "cell_type": "code",
   "execution_count": 65,
   "id": "165479dc-2704-4216-9e35-5730f343084b",
   "metadata": {},
   "outputs": [
    {
     "data": {
      "text/html": [
       "<table class=\"dataframe\">\n",
       "<caption>A tibble: 9 × 5</caption>\n",
       "<thead>\n",
       "\t<tr><th scope=col>Area</th><th scope=col>Duration</th><th scope=col>variable</th><th scope=col>statistic</th><th scope=col>p</th></tr>\n",
       "\t<tr><th scope=col>&lt;chr&gt;</th><th scope=col>&lt;chr&gt;</th><th scope=col>&lt;chr&gt;</th><th scope=col>&lt;dbl&gt;</th><th scope=col>&lt;dbl&gt;</th></tr>\n",
       "</thead>\n",
       "<tbody>\n",
       "\t<tr><td>AreaA  </td><td>100</td><td>Time</td><td>0.8409519</td><td>0.1675703</td></tr>\n",
       "\t<tr><td>AreaA  </td><td>150</td><td>Time</td><td>0.9460349</td><td>0.7088551</td></tr>\n",
       "\t<tr><td>AreaA  </td><td>50 </td><td>Time</td><td>0.9141809</td><td>0.4931178</td></tr>\n",
       "\t<tr><td>AreaB  </td><td>100</td><td>Time</td><td>0.9913625</td><td>0.9842414</td></tr>\n",
       "\t<tr><td>AreaB  </td><td>150</td><td>Time</td><td>0.8504109</td><td>0.1958209</td></tr>\n",
       "\t<tr><td>AreaB  </td><td>50 </td><td>Time</td><td>0.9452666</td><td>0.7033700</td></tr>\n",
       "\t<tr><td>Neutral</td><td>100</td><td>Time</td><td>0.9581566</td><td>0.7950916</td></tr>\n",
       "\t<tr><td>Neutral</td><td>150</td><td>Time</td><td>0.9913625</td><td>0.9842414</td></tr>\n",
       "\t<tr><td>Neutral</td><td>50 </td><td>Time</td><td>0.9591148</td><td>0.8018062</td></tr>\n",
       "</tbody>\n",
       "</table>\n"
      ],
      "text/latex": [
       "A tibble: 9 × 5\n",
       "\\begin{tabular}{lllll}\n",
       " Area & Duration & variable & statistic & p\\\\\n",
       " <chr> & <chr> & <chr> & <dbl> & <dbl>\\\\\n",
       "\\hline\n",
       "\t AreaA   & 100 & Time & 0.8409519 & 0.1675703\\\\\n",
       "\t AreaA   & 150 & Time & 0.9460349 & 0.7088551\\\\\n",
       "\t AreaA   & 50  & Time & 0.9141809 & 0.4931178\\\\\n",
       "\t AreaB   & 100 & Time & 0.9913625 & 0.9842414\\\\\n",
       "\t AreaB   & 150 & Time & 0.8504109 & 0.1958209\\\\\n",
       "\t AreaB   & 50  & Time & 0.9452666 & 0.7033700\\\\\n",
       "\t Neutral & 100 & Time & 0.9581566 & 0.7950916\\\\\n",
       "\t Neutral & 150 & Time & 0.9913625 & 0.9842414\\\\\n",
       "\t Neutral & 50  & Time & 0.9591148 & 0.8018062\\\\\n",
       "\\end{tabular}\n"
      ],
      "text/markdown": [
       "\n",
       "A tibble: 9 × 5\n",
       "\n",
       "| Area &lt;chr&gt; | Duration &lt;chr&gt; | variable &lt;chr&gt; | statistic &lt;dbl&gt; | p &lt;dbl&gt; |\n",
       "|---|---|---|---|---|\n",
       "| AreaA   | 100 | Time | 0.8409519 | 0.1675703 |\n",
       "| AreaA   | 150 | Time | 0.9460349 | 0.7088551 |\n",
       "| AreaA   | 50  | Time | 0.9141809 | 0.4931178 |\n",
       "| AreaB   | 100 | Time | 0.9913625 | 0.9842414 |\n",
       "| AreaB   | 150 | Time | 0.8504109 | 0.1958209 |\n",
       "| AreaB   | 50  | Time | 0.9452666 | 0.7033700 |\n",
       "| Neutral | 100 | Time | 0.9581566 | 0.7950916 |\n",
       "| Neutral | 150 | Time | 0.9913625 | 0.9842414 |\n",
       "| Neutral | 50  | Time | 0.9591148 | 0.8018062 |\n",
       "\n"
      ],
      "text/plain": [
       "  Area    Duration variable statistic p        \n",
       "1 AreaA   100      Time     0.8409519 0.1675703\n",
       "2 AreaA   150      Time     0.9460349 0.7088551\n",
       "3 AreaA   50       Time     0.9141809 0.4931178\n",
       "4 AreaB   100      Time     0.9913625 0.9842414\n",
       "5 AreaB   150      Time     0.8504109 0.1958209\n",
       "6 AreaB   50       Time     0.9452666 0.7033700\n",
       "7 Neutral 100      Time     0.9581566 0.7950916\n",
       "8 Neutral 150      Time     0.9913625 0.9842414\n",
       "9 Neutral 50       Time     0.9591148 0.8018062"
      ]
     },
     "metadata": {},
     "output_type": "display_data"
    }
   ],
   "source": [
    "Data %>% group_by(Area,Duration) %>% shapiro_test(Time)"
   ]
  },
  {
   "cell_type": "markdown",
   "id": "64faaf23-9f9d-4bb0-9904-6f7391eca09e",
   "metadata": {},
   "source": [
    "# سوال ششم"
   ]
  },
  {
   "cell_type": "code",
   "execution_count": 74,
   "id": "3d323dcc-52d8-4970-971d-47303ca3329a",
   "metadata": {},
   "outputs": [
    {
     "data": {
      "image/png": "[encoded data removed]",
      "text/plain": [
       "Plot with title \"Histogram of sample_means\""
      ]
     },
     "metadata": {
      "image/png": {
       "height": 420,
       "width": 420
      }
     },
     "output_type": "display_data"
    }
   ],
   "source": [
    "samples = replicate(50, sample(Data$Time, 5))\n",
    "sample_means = apply(samples, 2, mean)\n",
    "hist(sample_means, breaks = 100, probability = TRUE)\n",
    "population_mean = mean(Data$Time)\n",
    "abline(v = population_mean, col = \"blue\", lwd = 2)"
   ]
  },
  {
   "cell_type": "code",
   "execution_count": 69,
   "id": "7a73c31c-51f4-46da-8cbe-70506e2fcd68",
   "metadata": {},
   "outputs": [
    {
     "data": {
      "image/png": "[encoded data removed]",
      "text/plain": [
       "Plot with title \"Histogram of Data$Time\""
      ]
     },
     "metadata": {
      "image/png": {
       "height": 420,
       "width": 420
      }
     },
     "output_type": "display_data"
    }
   ],
   "source": [
    "hist(Data$Time, breaks = 30)"
   ]
  },
  {
   "cell_type": "code",
   "execution_count": 75,
   "id": "cdc7452c-293f-4002-8f0b-4fc164539eaa",
   "metadata": {},
   "outputs": [
    {
     "data": {
      "image/png": "[encoded data removed]",
      "text/plain": [
       "plot without title"
      ]
     },
     "metadata": {
      "image/png": {
       "height": 420,
       "width": 420
      }
     },
     "output_type": "display_data"
    }
   ],
   "source": [
    "ggqqplot(Data$Time)"
   ]
  },
  {
   "cell_type": "markdown",
   "id": "8c21e27c-0258-48e0-881f-634ce3f0b680",
   "metadata": {},
   "source": [
    "# سوال 9"
   ]
  },
  {
   "cell_type": "code",
   "execution_count": 91,
   "id": "c771cb03-2f95-47c2-bd07-9c49dd817987",
   "metadata": {},
   "outputs": [
    {
     "data": {
      "text/html": [
       "<table class=\"dataframe\">\n",
       "<caption>A tibble: 1 × 4</caption>\n",
       "<thead>\n",
       "\t<tr><th scope=col>df1</th><th scope=col>df2</th><th scope=col>statistic</th><th scope=col>p</th></tr>\n",
       "\t<tr><th scope=col>&lt;int&gt;</th><th scope=col>&lt;int&gt;</th><th scope=col>&lt;dbl&gt;</th><th scope=col>&lt;dbl&gt;</th></tr>\n",
       "</thead>\n",
       "<tbody>\n",
       "\t<tr><td>8</td><td>36</td><td>0.1355422</td><td>0.9970647</td></tr>\n",
       "</tbody>\n",
       "</table>\n"
      ],
      "text/latex": [
       "A tibble: 1 × 4\n",
       "\\begin{tabular}{llll}\n",
       " df1 & df2 & statistic & p\\\\\n",
       " <int> & <int> & <dbl> & <dbl>\\\\\n",
       "\\hline\n",
       "\t 8 & 36 & 0.1355422 & 0.9970647\\\\\n",
       "\\end{tabular}\n"
      ],
      "text/markdown": [
       "\n",
       "A tibble: 1 × 4\n",
       "\n",
       "| df1 &lt;int&gt; | df2 &lt;int&gt; | statistic &lt;dbl&gt; | p &lt;dbl&gt; |\n",
       "|---|---|---|---|\n",
       "| 8 | 36 | 0.1355422 | 0.9970647 |\n",
       "\n"
      ],
      "text/plain": [
       "  df1 df2 statistic p        \n",
       "1 8   36  0.1355422 0.9970647"
      ]
     },
     "metadata": {},
     "output_type": "display_data"
    }
   ],
   "source": [
    "Data %>% levene_test(Time ~ Duration * Area)"
   ]
  },
  {
   "cell_type": "code",
   "execution_count": 76,
   "id": "79bed4d2-b189-4308-af62-98204509cc94",
   "metadata": {},
   "outputs": [
    {
     "data": {
      "text/html": [
       "<table class=\"dataframe\">\n",
       "<caption>A anova_test: 3 × 7</caption>\n",
       "<thead>\n",
       "\t<tr><th></th><th scope=col>Effect</th><th scope=col>DFn</th><th scope=col>DFd</th><th scope=col>F</th><th scope=col>p</th><th scope=col>p&lt;.05</th><th scope=col>ges</th></tr>\n",
       "\t<tr><th></th><th scope=col>&lt;chr&gt;</th><th scope=col>&lt;dbl&gt;</th><th scope=col>&lt;dbl&gt;</th><th scope=col>&lt;dbl&gt;</th><th scope=col>&lt;dbl&gt;</th><th scope=col>&lt;chr&gt;</th><th scope=col>&lt;dbl&gt;</th></tr>\n",
       "</thead>\n",
       "<tbody>\n",
       "\t<tr><th scope=row>1</th><td>Area         </td><td>2</td><td>36</td><td>6.074</td><td>0.005</td><td>*</td><td>0.252</td></tr>\n",
       "\t<tr><th scope=row>2</th><td>Duration     </td><td>2</td><td>36</td><td>3.217</td><td>0.052</td><td> </td><td>0.152</td></tr>\n",
       "\t<tr><th scope=row>3</th><td>Area:Duration</td><td>4</td><td>36</td><td>3.172</td><td>0.025</td><td>*</td><td>0.261</td></tr>\n",
       "</tbody>\n",
       "</table>\n"
      ],
      "text/latex": [
       "A anova\\_test: 3 × 7\n",
       "\\begin{tabular}{r|lllllll}\n",
       "  & Effect & DFn & DFd & F & p & p<.05 & ges\\\\\n",
       "  & <chr> & <dbl> & <dbl> & <dbl> & <dbl> & <chr> & <dbl>\\\\\n",
       "\\hline\n",
       "\t1 & Area          & 2 & 36 & 6.074 & 0.005 & * & 0.252\\\\\n",
       "\t2 & Duration      & 2 & 36 & 3.217 & 0.052 &   & 0.152\\\\\n",
       "\t3 & Area:Duration & 4 & 36 & 3.172 & 0.025 & * & 0.261\\\\\n",
       "\\end{tabular}\n"
      ],
      "text/markdown": [
       "\n",
       "A anova_test: 3 × 7\n",
       "\n",
       "| <!--/--> | Effect &lt;chr&gt; | DFn &lt;dbl&gt; | DFd &lt;dbl&gt; | F &lt;dbl&gt; | p &lt;dbl&gt; | p&lt;.05 &lt;chr&gt; | ges &lt;dbl&gt; |\n",
       "|---|---|---|---|---|---|---|---|\n",
       "| 1 | Area          | 2 | 36 | 6.074 | 0.005 | * | 0.252 |\n",
       "| 2 | Duration      | 2 | 36 | 3.217 | 0.052 | <!----> | 0.152 |\n",
       "| 3 | Area:Duration | 4 | 36 | 3.172 | 0.025 | * | 0.261 |\n",
       "\n"
      ],
      "text/plain": [
       "  Effect        DFn DFd F     p     p<.05 ges  \n",
       "1 Area          2   36  6.074 0.005 *     0.252\n",
       "2 Duration      2   36  3.217 0.052       0.152\n",
       "3 Area:Duration 4   36  3.172 0.025 *     0.261"
      ]
     },
     "metadata": {},
     "output_type": "display_data"
    }
   ],
   "source": [
    "anova_test(Data, Time ~ Area * Duration)"
   ]
  },
  {
   "cell_type": "markdown",
   "id": "077ef9b4-4295-45b4-863c-9d417e733bd0",
   "metadata": {},
   "source": [
    "# آزمون های تعقیبی"
   ]
  },
  {
   "cell_type": "code",
   "execution_count": 88,
   "id": "4bf83405-cf1f-4bbb-91d5-c05c4da28a67",
   "metadata": {},
   "outputs": [
    {
     "data": {
      "text/html": [
       "<table class=\"dataframe\">\n",
       "<caption>A grouped_anova_test: 3 × 8</caption>\n",
       "<thead>\n",
       "\t<tr><th></th><th scope=col>Area</th><th scope=col>Effect</th><th scope=col>DFn</th><th scope=col>DFd</th><th scope=col>F</th><th scope=col>p</th><th scope=col>p&lt;.05</th><th scope=col>ges</th></tr>\n",
       "\t<tr><th></th><th scope=col>&lt;chr&gt;</th><th scope=col>&lt;chr&gt;</th><th scope=col>&lt;dbl&gt;</th><th scope=col>&lt;dbl&gt;</th><th scope=col>&lt;dbl&gt;</th><th scope=col>&lt;dbl&gt;</th><th scope=col>&lt;chr&gt;</th><th scope=col>&lt;dbl&gt;</th></tr>\n",
       "</thead>\n",
       "<tbody>\n",
       "\t<tr><th scope=row>1</th><td>AreaA  </td><td>Duration</td><td>2</td><td>12</td><td>4.528</td><td>0.034</td><td>*</td><td>0.430</td></tr>\n",
       "\t<tr><th scope=row>2</th><td>AreaB  </td><td>Duration</td><td>2</td><td>12</td><td>6.425</td><td>0.013</td><td>*</td><td>0.517</td></tr>\n",
       "\t<tr><th scope=row>3</th><td>Neutral</td><td>Duration</td><td>2</td><td>12</td><td>0.017</td><td>0.984</td><td> </td><td>0.003</td></tr>\n",
       "</tbody>\n",
       "</table>\n"
      ],
      "text/latex": [
       "A grouped\\_anova\\_test: 3 × 8\n",
       "\\begin{tabular}{r|llllllll}\n",
       "  & Area & Effect & DFn & DFd & F & p & p<.05 & ges\\\\\n",
       "  & <chr> & <chr> & <dbl> & <dbl> & <dbl> & <dbl> & <chr> & <dbl>\\\\\n",
       "\\hline\n",
       "\t1 & AreaA   & Duration & 2 & 12 & 4.528 & 0.034 & * & 0.430\\\\\n",
       "\t2 & AreaB   & Duration & 2 & 12 & 6.425 & 0.013 & * & 0.517\\\\\n",
       "\t3 & Neutral & Duration & 2 & 12 & 0.017 & 0.984 &   & 0.003\\\\\n",
       "\\end{tabular}\n"
      ],
      "text/markdown": [
       "\n",
       "A grouped_anova_test: 3 × 8\n",
       "\n",
       "| <!--/--> | Area &lt;chr&gt; | Effect &lt;chr&gt; | DFn &lt;dbl&gt; | DFd &lt;dbl&gt; | F &lt;dbl&gt; | p &lt;dbl&gt; | p&lt;.05 &lt;chr&gt; | ges &lt;dbl&gt; |\n",
       "|---|---|---|---|---|---|---|---|---|\n",
       "| 1 | AreaA   | Duration | 2 | 12 | 4.528 | 0.034 | * | 0.430 |\n",
       "| 2 | AreaB   | Duration | 2 | 12 | 6.425 | 0.013 | * | 0.517 |\n",
       "| 3 | Neutral | Duration | 2 | 12 | 0.017 | 0.984 | <!----> | 0.003 |\n",
       "\n"
      ],
      "text/plain": [
       "  Area    Effect   DFn DFd F     p     p<.05 ges  \n",
       "1 AreaA   Duration 2   12  4.528 0.034 *     0.430\n",
       "2 AreaB   Duration 2   12  6.425 0.013 *     0.517\n",
       "3 Neutral Duration 2   12  0.017 0.984       0.003"
      ]
     },
     "metadata": {},
     "output_type": "display_data"
    }
   ],
   "source": [
    "Data %>% group_by(Area) %>% anova_test(Time ~ Duration)"
   ]
  },
  {
   "cell_type": "code",
   "execution_count": 85,
   "id": "4e58ba28-9d86-4ea2-99c6-b7f9003c98ba",
   "metadata": {},
   "outputs": [
    {
     "data": {
      "text/html": [
       "<table class=\"dataframe\">\n",
       "<caption>A rstatix_test: 9 × 10</caption>\n",
       "<thead>\n",
       "\t<tr><th></th><th scope=col>Duration</th><th scope=col>term</th><th scope=col>.y.</th><th scope=col>group1</th><th scope=col>group2</th><th scope=col>df</th><th scope=col>statistic</th><th scope=col>p</th><th scope=col>p.adj</th><th scope=col>p.adj.signif</th></tr>\n",
       "\t<tr><th></th><th scope=col>&lt;fct&gt;</th><th scope=col>&lt;chr&gt;</th><th scope=col>&lt;chr&gt;</th><th scope=col>&lt;chr&gt;</th><th scope=col>&lt;chr&gt;</th><th scope=col>&lt;dbl&gt;</th><th scope=col>&lt;dbl&gt;</th><th scope=col>&lt;dbl&gt;</th><th scope=col>&lt;dbl&gt;</th><th scope=col>&lt;chr&gt;</th></tr>\n",
       "</thead>\n",
       "<tbody>\n",
       "\t<tr><th scope=row>1</th><td>100</td><td>Area</td><td>Time</td><td>AreaA</td><td>AreaB  </td><td>36</td><td> 2.0443342</td><td>0.048287184</td><td>0.144861551</td><td>ns</td></tr>\n",
       "\t<tr><th scope=row>2</th><td>100</td><td>Area</td><td>Time</td><td>AreaA</td><td>Neutral</td><td>36</td><td>-1.4602387</td><td>0.152897216</td><td>0.458691648</td><td>ns</td></tr>\n",
       "\t<tr><th scope=row>3</th><td>100</td><td>Area</td><td>Time</td><td>AreaB</td><td>Neutral</td><td>36</td><td>-3.5045730</td><td>0.001243002</td><td>0.003729006</td><td>**</td></tr>\n",
       "\t<tr><th scope=row>4</th><td>150</td><td>Area</td><td>Time</td><td>AreaA</td><td>AreaB  </td><td>36</td><td> 0.1168191</td><td>0.907652697</td><td>1.000000000</td><td>ns</td></tr>\n",
       "\t<tr><th scope=row>5</th><td>150</td><td>Area</td><td>Time</td><td>AreaA</td><td>Neutral</td><td>36</td><td>-0.3504573</td><td>0.728037926</td><td>1.000000000</td><td>ns</td></tr>\n",
       "\t<tr><th scope=row>6</th><td>150</td><td>Area</td><td>Time</td><td>AreaB</td><td>Neutral</td><td>36</td><td>-0.4672764</td><td>0.643118245</td><td>1.000000000</td><td>ns</td></tr>\n",
       "\t<tr><th scope=row>7</th><td>50 </td><td>Area</td><td>Time</td><td>AreaA</td><td>AreaB  </td><td>36</td><td>-2.2195629</td><td>0.032836378</td><td>0.098509134</td><td>ns</td></tr>\n",
       "\t<tr><th scope=row>8</th><td>50 </td><td>Area</td><td>Time</td><td>AreaA</td><td>Neutral</td><td>36</td><td>-3.4461634</td><td>0.001462476</td><td>0.004387428</td><td>**</td></tr>\n",
       "\t<tr><th scope=row>9</th><td>50 </td><td>Area</td><td>Time</td><td>AreaB</td><td>Neutral</td><td>36</td><td>-1.2266005</td><td>0.227935062</td><td>0.683805185</td><td>ns</td></tr>\n",
       "</tbody>\n",
       "</table>\n"
      ],
      "text/latex": [
       "A rstatix\\_test: 9 × 10\n",
       "\\begin{tabular}{r|llllllllll}\n",
       "  & Duration & term & .y. & group1 & group2 & df & statistic & p & p.adj & p.adj.signif\\\\\n",
       "  & <fct> & <chr> & <chr> & <chr> & <chr> & <dbl> & <dbl> & <dbl> & <dbl> & <chr>\\\\\n",
       "\\hline\n",
       "\t1 & 100 & Area & Time & AreaA & AreaB   & 36 &  2.0443342 & 0.048287184 & 0.144861551 & ns\\\\\n",
       "\t2 & 100 & Area & Time & AreaA & Neutral & 36 & -1.4602387 & 0.152897216 & 0.458691648 & ns\\\\\n",
       "\t3 & 100 & Area & Time & AreaB & Neutral & 36 & -3.5045730 & 0.001243002 & 0.003729006 & **\\\\\n",
       "\t4 & 150 & Area & Time & AreaA & AreaB   & 36 &  0.1168191 & 0.907652697 & 1.000000000 & ns\\\\\n",
       "\t5 & 150 & Area & Time & AreaA & Neutral & 36 & -0.3504573 & 0.728037926 & 1.000000000 & ns\\\\\n",
       "\t6 & 150 & Area & Time & AreaB & Neutral & 36 & -0.4672764 & 0.643118245 & 1.000000000 & ns\\\\\n",
       "\t7 & 50  & Area & Time & AreaA & AreaB   & 36 & -2.2195629 & 0.032836378 & 0.098509134 & ns\\\\\n",
       "\t8 & 50  & Area & Time & AreaA & Neutral & 36 & -3.4461634 & 0.001462476 & 0.004387428 & **\\\\\n",
       "\t9 & 50  & Area & Time & AreaB & Neutral & 36 & -1.2266005 & 0.227935062 & 0.683805185 & ns\\\\\n",
       "\\end{tabular}\n"
      ],
      "text/markdown": [
       "\n",
       "A rstatix_test: 9 × 10\n",
       "\n",
       "| <!--/--> | Duration &lt;fct&gt; | term &lt;chr&gt; | .y. &lt;chr&gt; | group1 &lt;chr&gt; | group2 &lt;chr&gt; | df &lt;dbl&gt; | statistic &lt;dbl&gt; | p &lt;dbl&gt; | p.adj &lt;dbl&gt; | p.adj.signif &lt;chr&gt; |\n",
       "|---|---|---|---|---|---|---|---|---|---|---|\n",
       "| 1 | 100 | Area | Time | AreaA | AreaB   | 36 |  2.0443342 | 0.048287184 | 0.144861551 | ns |\n",
       "| 2 | 100 | Area | Time | AreaA | Neutral | 36 | -1.4602387 | 0.152897216 | 0.458691648 | ns |\n",
       "| 3 | 100 | Area | Time | AreaB | Neutral | 36 | -3.5045730 | 0.001243002 | 0.003729006 | ** |\n",
       "| 4 | 150 | Area | Time | AreaA | AreaB   | 36 |  0.1168191 | 0.907652697 | 1.000000000 | ns |\n",
       "| 5 | 150 | Area | Time | AreaA | Neutral | 36 | -0.3504573 | 0.728037926 | 1.000000000 | ns |\n",
       "| 6 | 150 | Area | Time | AreaB | Neutral | 36 | -0.4672764 | 0.643118245 | 1.000000000 | ns |\n",
       "| 7 | 50  | Area | Time | AreaA | AreaB   | 36 | -2.2195629 | 0.032836378 | 0.098509134 | ns |\n",
       "| 8 | 50  | Area | Time | AreaA | Neutral | 36 | -3.4461634 | 0.001462476 | 0.004387428 | ** |\n",
       "| 9 | 50  | Area | Time | AreaB | Neutral | 36 | -1.2266005 | 0.227935062 | 0.683805185 | ns |\n",
       "\n"
      ],
      "text/plain": [
       "  Duration term .y.  group1 group2  df statistic  p           p.adj      \n",
       "1 100      Area Time AreaA  AreaB   36  2.0443342 0.048287184 0.144861551\n",
       "2 100      Area Time AreaA  Neutral 36 -1.4602387 0.152897216 0.458691648\n",
       "3 100      Area Time AreaB  Neutral 36 -3.5045730 0.001243002 0.003729006\n",
       "4 150      Area Time AreaA  AreaB   36  0.1168191 0.907652697 1.000000000\n",
       "5 150      Area Time AreaA  Neutral 36 -0.3504573 0.728037926 1.000000000\n",
       "6 150      Area Time AreaB  Neutral 36 -0.4672764 0.643118245 1.000000000\n",
       "7 50       Area Time AreaA  AreaB   36 -2.2195629 0.032836378 0.098509134\n",
       "8 50       Area Time AreaA  Neutral 36 -3.4461634 0.001462476 0.004387428\n",
       "9 50       Area Time AreaB  Neutral 36 -1.2266005 0.227935062 0.683805185\n",
       "  p.adj.signif\n",
       "1 ns          \n",
       "2 ns          \n",
       "3 **          \n",
       "4 ns          \n",
       "5 ns          \n",
       "6 ns          \n",
       "7 ns          \n",
       "8 **          \n",
       "9 ns          "
      ]
     },
     "metadata": {},
     "output_type": "display_data"
    }
   ],
   "source": [
    "Data %>% group_by(Duration) %>% emmeans_test(Time ~ Area, p.adjust.method = \"bonferroni\")"
   ]
  }
 ],
 "metadata": {
  "kernelspec": {
   "display_name": "R",
   "language": "R",
   "name": "ir"
  },
  "language_info": {
   "codemirror_mode": "r",
   "file_extension": ".r",
   "mimetype": "text/x-r-source",
   "name": "R",
   "pygments_lexer": "r",
   "version": "4.3.2"
  }
 },
 "nbformat": 4,
 "nbformat_minor": 5
}
